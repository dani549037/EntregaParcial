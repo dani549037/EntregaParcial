{
  "nbformat": 4,
  "nbformat_minor": 0,
  "metadata": {
    "colab": {
      "provenance": [],
      "authorship_tag": "ABX9TyMBiRBzYRBLNIFootiUzu/o",
      "include_colab_link": true
    },
    "kernelspec": {
      "name": "python3",
      "display_name": "Python 3"
    },
    "language_info": {
      "name": "python"
    }
  },
  "cells": [
    {
      "cell_type": "markdown",
      "metadata": {
        "id": "view-in-github",
        "colab_type": "text"
      },
      "source": [
        "<a href=\"https://colab.research.google.com/github/dani549037/EntregaParcial/blob/main/actividad_3_000549037.ipynb\" target=\"_parent\"><img src=\"https://colab.research.google.com/assets/colab-badge.svg\" alt=\"Open In Colab\"/></a>"
      ]
    },
    {
      "cell_type": "code",
      "source": [
        "import math\n",
        "\n",
        "x = int(input(\"Ingrese la frecuencia de entrada en Hz: \"))\n",
        "A = 1000\n",
        "B = 300\n",
        "fdp = 0\n",
        "PROMACU = 0.3\n",
        "\n",
        "for i in range(x + 1):\n",
        "    fdp += (1 / (B * math.sqrt(2 * math.pi))) * math.exp(-0.5 * ((i - A) / B) ** 2)\n",
        "\n",
        "if fdp > PROMACU:\n",
        "    print(\"La señal pasa el filtro.\")\n",
        "else:\n",
        "    print(\"La señal es bloqueada.\")\n"
      ],
      "metadata": {
        "colab": {
          "base_uri": "https://localhost:8080/"
        },
        "id": "R1uCy5Yr6_36",
        "outputId": "8323d9ed-bf87-45f9-8fd1-787e26a74148"
      },
      "execution_count": 79,
      "outputs": [
        {
          "output_type": "stream",
          "name": "stdout",
          "text": [
            "Ingrese la frecuencia de entrada en Hz: 400\n",
            "La señal es bloqueada.\n"
          ]
        }
      ]
    }
  ]
}